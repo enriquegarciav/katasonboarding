{
 "cells": [
  {
   "cell_type": "code",
   "execution_count": 3,
   "metadata": {},
   "outputs": [
    {
     "name": "stdout",
     "output_type": "stream",
     "text": [
      "payload, propellant, structure\n"
     ]
    },
    {
     "data": {
      "text/plain": [
       "'payload, propellant, structure'"
      ]
     },
     "execution_count": 3,
     "metadata": {},
     "output_type": "execute_result"
    }
   ],
   "source": [
    "# Defino mi función\n",
    "def rocket_parts():\n",
    "    print('payload, propellant, structure')\n",
    "\n",
    "# Llamo a mi función\n",
    "\n",
    "rocket_parts()\n",
    "\n",
    "\n",
    "\n",
    "def rocket_parts():\n",
    "     return 'payload, propellant, structure'\n",
    "\n",
    "output = rocket_parts()\n",
    "output\n"
   ]
  },
  {
   "cell_type": "code",
   "execution_count": 4,
   "metadata": {},
   "outputs": [
    {
     "data": {
      "text/plain": [
       "'238,855'"
      ]
     },
     "execution_count": 4,
     "metadata": {},
     "output_type": "execute_result"
    }
   ],
   "source": [
    "def distance_from_earth(destination):\n",
    "    if destination == 'Moon':\n",
    "        return '238,855'\n",
    "    else:\n",
    "        return 'Unable to compute to that destination'\n",
    "\n",
    "distance_from_earth('Moon')"
   ]
  },
  {
   "cell_type": "code",
   "execution_count": 6,
   "metadata": {},
   "outputs": [
    {
     "data": {
      "text/plain": [
       "133"
      ]
     },
     "execution_count": 6,
     "metadata": {},
     "output_type": "execute_result"
    }
   ],
   "source": [
    "def days_to_complete(distance, speed):\n",
    "    hours = distance/speed\n",
    "    return hours/24\n",
    "\n",
    "total_days = days_to_complete(238855, 75)\n",
    "round(total_days)\n",
    "\n",
    "round(days_to_complete(238855, 75))"
   ]
  },
  {
   "cell_type": "code",
   "execution_count": 12,
   "metadata": {},
   "outputs": [
    {
     "data": {
      "text/plain": [
       "'Arrival: Monday 04:54'"
      ]
     },
     "execution_count": 12,
     "metadata": {},
     "output_type": "execute_result"
    }
   ],
   "source": [
    "from datetime import timedelta, datetime\n",
    "\n",
    "def arrival_time(hours=51):\n",
    "    now = datetime.now()\n",
    "    arrival = now + timedelta(hours=hours)\n",
    "    return arrival.strftime('Arrival: %A %H:%M')\n",
    "\n",
    "arrival_time()"
   ]
  },
  {
   "cell_type": "code",
   "execution_count": 13,
   "metadata": {},
   "outputs": [
    {
     "data": {
      "text/plain": [
       "'Moon Arrival: Monday 04:55'"
      ]
     },
     "execution_count": 13,
     "metadata": {},
     "output_type": "execute_result"
    }
   ],
   "source": [
    "from datetime import timedelta, datetime\n",
    "\n",
    "def arrival_time(destination, hours=51):\n",
    "    now = datetime.now()\n",
    "    arrival = now + timedelta(hours=hours)\n",
    "    return arrival.strftime(f'{destination} Arrival: %A %H:%M')\n",
    "\n",
    "arrival_time('Moon')\n"
   ]
  },
  {
   "cell_type": "code",
   "execution_count": 14,
   "metadata": {},
   "outputs": [
    {
     "name": "stdout",
     "output_type": "stream",
     "text": [
      "()\n",
      "('one', 'two')\n",
      "(None,)\n"
     ]
    }
   ],
   "source": [
    "def variable_length(*args):\n",
    "    print(args)\n",
    "\n",
    "variable_length()\n",
    "\n",
    "variable_length('one', 'two')\n",
    "\n",
    "variable_length(None)\n"
   ]
  },
  {
   "cell_type": "code",
   "execution_count": 15,
   "metadata": {},
   "outputs": [
    {
     "data": {
      "text/plain": [
       "'Total time to launch is 36 minutes'"
      ]
     },
     "execution_count": 15,
     "metadata": {},
     "output_type": "execute_result"
    }
   ],
   "source": [
    "def sequence_time(*args):\n",
    "    total_minutes = sum(args)\n",
    "    if total_minutes < 60:\n",
    "        return f'Total time to launch is {total_minutes} minutes'\n",
    "    else:\n",
    "        return f'Total time to launch is {total_minutes/60} hours'\n",
    "\n",
    "sequence_time(4, 14, 18)"
   ]
  },
  {
   "cell_type": "code",
   "execution_count": 16,
   "metadata": {},
   "outputs": [
    {
     "name": "stdout",
     "output_type": "stream",
     "text": [
      "{'tanks': 1, 'day': 'Wednesday', 'pilots': 3}\n"
     ]
    }
   ],
   "source": [
    "def variable_length(**kwargs):\n",
    "    print(kwargs)\n",
    "    \n",
    "variable_length(tanks=1, day='Wednesday', pilots=3)\n"
   ]
  },
  {
   "cell_type": "code",
   "execution_count": 17,
   "metadata": {},
   "outputs": [
    {
     "name": "stdout",
     "output_type": "stream",
     "text": [
      "3 astronauts assigned for this mission:\n",
      "captain: Neil Armstrong\n",
      "pilot: Buzz Aldrin\n",
      "command_pilot: Michael Collins\n"
     ]
    }
   ],
   "source": [
    "def crew_members(**kwargs):\n",
    "    print(f'{len(kwargs)} astronauts assigned for this mission:')\n",
    "    for title, name in kwargs.items():\n",
    "        print(f'{title}: {name}')\n",
    "        \n",
    "crew_members(captain='Neil Armstrong', pilot='Buzz Aldrin', command_pilot='Michael Collins')"
   ]
  },
  {
   "cell_type": "code",
   "execution_count": 24,
   "metadata": {},
   "outputs": [
    {
     "name": "stdout",
     "output_type": "stream",
     "text": [
      "Reporte de combustible \n",
      "Promedio: 78.33333333333333 \n",
      "Tanque 1: 80 \n",
      "Tanque 2: 70 \n",
      "Tanque 3: 85\n",
      "Reporte de combustible 2 \n",
      "Promedio: 78.33333333333333 \n",
      "Tanque 1: 80 \n",
      "Tanque 2: 70 \n",
      "Tanque 3: 85\n"
     ]
    }
   ],
   "source": [
    "#Ejercicio 1: Trabajar con argumentos en funciones\n",
    "# Función para leer 3 tanques de combustible y muestre el promedio\n",
    "def reporte(tanque1,tanque2,tanque3):\n",
    "    prom = (tanque1 + tanque2 + tanque3) / 3\n",
    "    return f\"Reporte de combustible \\nPromedio: {prom} \\nTanque 1: {tanque1} \\nTanque 2: {tanque2} \\nTanque 3: {tanque3}\"\n",
    "\n",
    "# Llamamos a la función que genera el reporte print(funcion(tanque1, tanque2, tanque3))\n",
    "print(reporte(80,70,85))\n",
    "\n",
    "# Función promedio \n",
    "def promedio(val):\n",
    "    total = sum(val)\n",
    "    items = len(val)\n",
    "    return total / items\n",
    "\n",
    "\n",
    "# Actualiza la función\n",
    "\n",
    "def genera_reporte(tanque1,tanque2,tanque3):\n",
    "    prom = (tanque1 + tanque2 + tanque3) / 3\n",
    "    return f\"Reporte de combustible 2 \\nPromedio: {promedio([tanque1,tanque2,tanque3])} \\nTanque 1: {tanque1} \\nTanque 2: {tanque2} \\nTanque 3: {tanque3}\"\n",
    "\n",
    "print(genera_reporte(80, 70, 85))"
   ]
  },
  {
   "cell_type": "code",
   "execution_count": 31,
   "metadata": {},
   "outputs": [
    {
     "name": "stdout",
     "output_type": "stream",
     "text": [
      "Mision hacia Moon\n",
      "Tiempo total: 65 minutos\n",
      "Combustible: 500000 galones\n",
      "\n",
      "    Mision a Moon\n",
      "    Tiempo: 76 minutos\n",
      "    Cumbustible: 500000\n",
      "    \n",
      "\n",
      "    Mision a Moon\n",
      "    Tiempo: 74 minutos\n",
      "    Combustible restante: 500000\n",
      "    tanque principal  --> 300000 galones\n",
      "tanque externo  --> 200000 galones\n",
      "\n"
     ]
    }
   ],
   "source": [
    "#Ejercicio 2: Trabajo con argumentos de palabra clave\n",
    "\n",
    "# Función con un informe preciso de la misión. Considera hora de prelanzamiento, tiempo de vuelo, destino, tanque externo y tanque interno\n",
    "\n",
    "def reporte_mision(tiempo_destino, tiempo_vuelo, destino, tanque_externo, tanque_principal):\n",
    "    return f\"Mision hacia {destino}\\nTiempo total: {tiempo_destino + tiempo_vuelo} minutos\\nCombustible: {tanque_externo + tanque_principal} galones\"\n",
    "\n",
    "print(reporte_mision(14, 51, \"Moon\", 200000, 300000))\n",
    "\n",
    "# Escribe tu nueva función de reporte considerando lo anterior\n",
    "def mission_report(destino, *minutos, **reservas_combustible):\n",
    "    return f\"\"\"\n",
    "    Mision a {destino}\n",
    "    Tiempo: {sum(minutos)} minutos\n",
    "    Cumbustible: {sum(reservas_combustible.values())}\n",
    "    \"\"\"\n",
    "\n",
    "print(mission_report(\"Moon\", 10, 15, 51, principal=300000, externo=200000))\n",
    "\n",
    "# Escribe tu nueva función\n",
    "def reporte(destino, *minutos, **reservas_combustible):\n",
    "    reporte_principal = f\"\"\"\n",
    "    Mision a {destino}\n",
    "    Tiempo: {sum(minutos)} minutos\n",
    "    Combustible restante: {sum(reservas_combustible.values())}\n",
    "    \"\"\"\n",
    "    for tanque, galones in reservas_combustible.items():\n",
    "        reporte_principal += f\"tanque {tanque}  --> {galones} galones\\n\"\n",
    "    return reporte_principal\n",
    "\n",
    "print(reporte(\"Moon\", 8, 11, 55, principal=300000, externo=200000))"
   ]
  }
 ],
 "metadata": {
  "interpreter": {
   "hash": "252e2da3f430d815f7eb5cf14d792a223c1e914bd1fdea26867986fe857c564c"
  },
  "kernelspec": {
   "display_name": "Python 3.10.2 64-bit",
   "language": "python",
   "name": "python3"
  },
  "language_info": {
   "codemirror_mode": {
    "name": "ipython",
    "version": 3
   },
   "file_extension": ".py",
   "mimetype": "text/x-python",
   "name": "python",
   "nbconvert_exporter": "python",
   "pygments_lexer": "ipython3",
   "version": "3.10.2"
  },
  "orig_nbformat": 4
 },
 "nbformat": 4,
 "nbformat_minor": 2
}
